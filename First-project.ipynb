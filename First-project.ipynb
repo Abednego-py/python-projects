{
 "cells": [
  {
   "cell_type": "markdown",
   "metadata": {},
   "source": [
    "## Guess the number game"
   ]
  },
  {
   "cell_type": "markdown",
   "metadata": {},
   "source": [
    "Write a program that allows a user to guess a number the computer has stored in memory. The user should be allowed 5 trials to guess correctly. Don't forget to let the user know how many trials the user has.  \n",
    "\n",
    "If the user guess is close to the value stored in the computer memory, the code should inform the user, if the guess is far away, the code should let the user know, if the guess is correct, the code should congratulate the user and break.\n",
    "\n",
    "Hint. Use the randint method from the random module to get a random number."
   ]
  },
  {
   "cell_type": "code",
   "execution_count": 13,
   "metadata": {},
   "outputs": [
    {
     "name": "stdout",
     "output_type": "stream",
     "text": [
      "You have 5 trials to guess my number correct\n",
      "enter a guess: io\n",
      "You did not enter an integer\n"
     ]
    }
   ],
   "source": [
    "import random\n",
    "computer_guess = random.randint(1,10)\n",
    "trials = 5\n",
    "\n",
    "print('You have 5 trials to guess my number correct')\n",
    "try:\n",
    "    for i in range(trials):\n",
    "        user_input = int(input('enter a guess: '))\n",
    "        if ((user_input == computer_guess -2) or (user_input == computer_guess + 2)):\n",
    "            print('Your guess is not far away, try again')\n",
    "        elif (abs((user_input - computer_guess) <= 3) or abs((user_input - computer_guess) >= 3)):\n",
    "            print('Your guess is far away, try again')\n",
    "        elif (user_input == computer_guess):\n",
    "            print('Congratulations! You win')\n",
    "            break\n",
    "        else:\n",
    "            print('Try again')\n",
    "except:\n",
    "    print('You did not enter an integer')"
   ]
  },
  {
   "cell_type": "markdown",
   "metadata": {},
   "source": [
    "### Generate random passwords"
   ]
  },
  {
   "cell_type": "markdown",
   "metadata": {},
   "source": [
    "Your code should generate a password of at least 8 characters from a combination of characters and store the password in a text file\n",
    "\n",
    "Hint: Use the choice method from the random module"
   ]
  },
  {
   "cell_type": "code",
   "execution_count": 16,
   "metadata": {},
   "outputs": [
    {
     "name": "stdout",
     "output_type": "stream",
     "text": [
      "enter a password length :9\n"
     ]
    }
   ],
   "source": [
    "import random\n",
    "possible_char = \"'QWERTYUIOPASDGHJKKZXCVBNM,1234567890-=*&&^^%%$£##.,asdfgghjkl;qwerttyyuuuiiooopzxcxcvvbmnnb'\"\n",
    "\n",
    "password = ''\n",
    "password_length = int(input('enter a password length :'))\n",
    "i = 1\n",
    "while (i <= password_length):\n",
    "    password += random.choice(possible_char)\n",
    "    i += 1\n",
    "with open('passwords.txt', 'w') as my_file:\n",
    "    my_file.write(password)\n"
   ]
  }
 ],
 "metadata": {
  "kernelspec": {
   "display_name": "Python 3",
   "language": "python",
   "name": "python3"
  },
  "language_info": {
   "codemirror_mode": {
    "name": "ipython",
    "version": 3
   },
   "file_extension": ".py",
   "mimetype": "text/x-python",
   "name": "python",
   "nbconvert_exporter": "python",
   "pygments_lexer": "ipython3",
   "version": "3.8.5"
  }
 },
 "nbformat": 4,
 "nbformat_minor": 4
}
